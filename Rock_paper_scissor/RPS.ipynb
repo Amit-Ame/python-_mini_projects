{
  "nbformat": 4,
  "nbformat_minor": 0,
  "metadata": {
    "colab": {
      "name": "RPS",
      "provenance": [],
      "collapsed_sections": [],
      "authorship_tag": "ABX9TyPQeWSF+i8953TVdvU8yGha",
      "include_colab_link": true
    },
    "kernelspec": {
      "name": "python3",
      "display_name": "Python 3"
    }
  },
  "cells": [
    {
      "cell_type": "markdown",
      "metadata": {
        "id": "view-in-github",
        "colab_type": "text"
      },
      "source": [
        "<a href=\"https://colab.research.google.com/github/Amit-Ame/python-_mini_projects/blob/master/Rock_paper_scissor/RPS.ipynb\" target=\"_parent\"><img src=\"https://colab.research.google.com/assets/colab-badge.svg\" alt=\"Open In Colab\"/></a>"
      ]
    },
    {
      "cell_type": "code",
      "metadata": {
        "id": "MrN00MmuTriv",
        "colab_type": "code",
        "colab": {}
      },
      "source": [
        " def takePlayerInput():\n",
        "    player = \"blank\"\n",
        "    while not( player.lower() == \"r\" or player.lower() == \"p\" or player.lower() == \"s\") :\n",
        "        player = input(\"Please Enter your input out of - R | P | S = \")\n",
        "    return player.lower()"
      ],
      "execution_count": null,
      "outputs": []
    },
    {
      "cell_type": "code",
      "metadata": {
        "id": "Tti12WQbTx54",
        "colab_type": "code",
        "colab": {}
      },
      "source": [
        " import random \n",
        " \n",
        "def getBotInput():\n",
        "    lst = ['r','s','p']\n",
        "    return random.choice(lst)"
      ],
      "execution_count": null,
      "outputs": []
    },
    {
      "cell_type": "code",
      "metadata": {
        "id": "9iI4aaXATx8q",
        "colab_type": "code",
        "colab": {}
      },
      "source": [
        " def checkWinner(player,bot):\n",
        "    if player == 'r' and bot == \"r\":\n",
        "        return \"draw\"\n",
        "    elif player == \"r\" and bot == \"p\":\n",
        "        return \"bot\"\n",
        "    elif player == \"r\" and bot == \"s\":\n",
        "        return \"player\"\n",
        "    elif player == \"p\" and bot == \"s\":\n",
        "        return \"bot\"\n",
        "    elif player == \"p\" and bot == \"r\":\n",
        "        return \"player\"\n",
        "    elif player == \"p\" and bot == \"p\":\n",
        "        return \"draw\"\n",
        "    elif player == \"s\" and bot == \"r\":\n",
        "        return \"bot\"\n",
        "    elif player == \"s\" and bot == \"p\":\n",
        "        return \"player\"\n",
        "    elif player == \"s\" and bot == \"s\":\n",
        "        return \"draw\"\n",
        "    else:\n",
        "        return \"draw\""
      ],
      "execution_count": null,
      "outputs": []
    },
    {
      "cell_type": "code",
      "metadata": {
        "id": "JbpJrWFpTx_L",
        "colab_type": "code",
        "colab": {}
      },
      "source": [
        " def RockPaperScissor():\n",
        "    endTheGame = \"n\"\n",
        "    player_score = 0 \n",
        "    bot_score = 0\n",
        "    while endTheGame.lower() != \"y\":\n",
        "        ply = takePlayerInput()\n",
        "        bt = getBotInput()\n",
        "        print('Bot Entered - ', bt)\n",
        "        print(\" \")\n",
        "        winner = checkWinner(player = ply, bot = bt)\n",
        "        print(\" Winner is - \", winner)\n",
        "        print(\" \")\n",
        "        if winner == \"player\":\n",
        "            player_score += 2\n",
        "        elif winner == \"bot\":\n",
        "            bot_score += 2\n",
        "        else :\n",
        "            player_score += 1\n",
        "            bot_score += 1\n",
        "            \n",
        "        print(\"--Score board--\")\n",
        "        print(\"PLAYER \",player_score)\n",
        "        print(\"Bot ---\",bot_score)\n",
        "        print(\" \")\n",
        "        endTheGame = input(\"You want to end Y/N - \")"
      ],
      "execution_count": null,
      "outputs": []
    },
    {
      "cell_type": "code",
      "metadata": {
        "id": "a_Cf26kvTyBo",
        "colab_type": "code",
        "colab": {
          "base_uri": "https://localhost:8080/",
          "height": 210
        },
        "outputId": "f4aae679-cb8a-4906-9300-5e0d051f43a7"
      },
      "source": [
        "RockPaperScissor()"
      ],
      "execution_count": null,
      "outputs": [
        {
          "output_type": "stream",
          "text": [
            "Please Enter your input out of - R | P | S = S\n",
            "Bot Entered -  s\n",
            " \n",
            " Winner is -  draw\n",
            " \n",
            "--Score board--\n",
            "PLAYER  1\n",
            "Bot --- 1\n",
            " \n",
            "You want to end Y/N - Y\n"
          ],
          "name": "stdout"
        }
      ]
    },
    {
      "cell_type": "code",
      "metadata": {
        "id": "vXwOmfk8WiZz",
        "colab_type": "code",
        "colab": {}
      },
      "source": [
        ""
      ],
      "execution_count": null,
      "outputs": []
    }
  ]
}